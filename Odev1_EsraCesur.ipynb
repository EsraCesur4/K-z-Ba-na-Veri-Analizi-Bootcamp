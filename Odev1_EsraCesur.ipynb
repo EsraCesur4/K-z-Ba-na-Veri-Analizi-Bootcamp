{
  "nbformat": 4,
  "nbformat_minor": 0,
  "metadata": {
    "colab": {
      "provenance": [],
      "authorship_tag": "ABX9TyMNNi4FgRf7IXuxcLlCsu/H",
      "include_colab_link": true
    },
    "kernelspec": {
      "name": "python3",
      "display_name": "Python 3"
    },
    "language_info": {
      "name": "python"
    }
  },
  "cells": [
    {
      "cell_type": "markdown",
      "metadata": {
        "id": "view-in-github",
        "colab_type": "text"
      },
      "source": [
        "<a href=\"https://colab.research.google.com/github/EsraCesur4/Kiz-Basina-Veri-Analizi-Bootcamp/blob/main/Odev1_EsraCesur.ipynb\" target=\"_parent\"><img src=\"https://colab.research.google.com/assets/colab-badge.svg\" alt=\"Open In Colab\"/></a>"
      ]
    },
    {
      "cell_type": "markdown",
      "source": [
        "**1. Girilen sayının pozitif, negatif veya sıfır olduğunu yazan koşul**"
      ],
      "metadata": {
        "id": "4PO-ZYyiAfMg"
      }
    },
    {
      "cell_type": "code",
      "execution_count": 4,
      "metadata": {
        "colab": {
          "base_uri": "https://localhost:8080/"
        },
        "id": "cmxrboHf99s1",
        "outputId": "67390e4b-5a8e-441c-beaf-3ac753da7206"
      },
      "outputs": [
        {
          "output_type": "stream",
          "name": "stdout",
          "text": [
            "Bir sayı girin: 0\n",
            "Pozitif/Negatif/Sıfır:  Sıfır\n"
          ]
        }
      ],
      "source": [
        "def check_positive_negative_zero(n):\n",
        "    if n > 0:\n",
        "        return \"Pozitif\"\n",
        "    elif n < 0:\n",
        "        return \"Negatif\"\n",
        "    else:\n",
        "        return \"Sıfır\"\n",
        "\n",
        "num = int(input(\"Bir sayı girin: \"))\n",
        "print(\"Pozitif/Negatif/Sıfır: \", check_positive_negative_zero(num))"
      ]
    },
    {
      "cell_type": "markdown",
      "source": [
        "**2. Girilen sayının tek mi çift mi olduğunu yazan koşul**"
      ],
      "metadata": {
        "id": "tCopcyoJAt00"
      }
    },
    {
      "cell_type": "code",
      "source": [
        "def check_even_odd(n):\n",
        "    return \"Çift\" if n % 2 == 0 else \"Tek\"\n",
        "\n",
        "num = int(input(\"Bir sayı girin: \"))\n",
        "print(\"Tek/Çift:\", check_even_odd(num))"
      ],
      "metadata": {
        "colab": {
          "base_uri": "https://localhost:8080/"
        },
        "id": "jvXdltMSBgE6",
        "outputId": "6008d216-3218-46a3-c713-e61097b9956a"
      },
      "execution_count": 5,
      "outputs": [
        {
          "output_type": "stream",
          "name": "stdout",
          "text": [
            "Bir sayı girin: 10\n",
            "Tek/Çift: Çift\n"
          ]
        }
      ]
    },
    {
      "cell_type": "markdown",
      "source": [
        "**3. Girilen nota göre harf aralığını yazan koşul (80-100 A, 60-80 B vs.)**"
      ],
      "metadata": {
        "id": "rkaDwgK9AzUT"
      }
    },
    {
      "cell_type": "code",
      "source": [
        "def grade_to_letter(grade):\n",
        "    if 80 <= grade <= 100:\n",
        "        return \"A\"\n",
        "    elif 60 <= grade < 80:\n",
        "        return \"B\"\n",
        "    elif 40 <= grade < 60:\n",
        "        return \"C\"\n",
        "    else:\n",
        "        return \"F\"\n",
        "\n",
        "grade = int(input(\"Bir not girin (0-100): \"))\n",
        "print(\"Harf Notu:\", grade_to_letter(grade))"
      ],
      "metadata": {
        "colab": {
          "base_uri": "https://localhost:8080/"
        },
        "id": "pciU05xjBpj_",
        "outputId": "761aa60c-5188-4ac9-adf1-d0f905de4113"
      },
      "execution_count": 6,
      "outputs": [
        {
          "output_type": "stream",
          "name": "stdout",
          "text": [
            "Bir not girin (0-100): 95\n",
            "Harf Notu: A\n"
          ]
        }
      ]
    },
    {
      "cell_type": "markdown",
      "source": [
        "**4. Girilen ismin karakter sayısı 5'ten büyükse “uzun bir isminiz var”, değilse ismini yazsın**"
      ],
      "metadata": {
        "id": "b5zDJcPMA28_"
      }
    },
    {
      "cell_type": "code",
      "source": [
        "def check_name_length(name):\n",
        "    if len(name) > 5:\n",
        "        return \"Uzun bir isminiz var\"\n",
        "    return 'İsminiz: ' + name\n",
        "\n",
        "name = input(\"Adınızı girin: \")\n",
        "check_name_length(name)"
      ],
      "metadata": {
        "colab": {
          "base_uri": "https://localhost:8080/",
          "height": 53
        },
        "id": "TzKOD28mBvz5",
        "outputId": "c2b8426a-58f4-497b-ddbd-ccc0f8d03a0e"
      },
      "execution_count": 13,
      "outputs": [
        {
          "name": "stdout",
          "output_type": "stream",
          "text": [
            "Adınızı girin: Esra\n"
          ]
        },
        {
          "output_type": "execute_result",
          "data": {
            "text/plain": [
              "'İsminiz: Esra'"
            ],
            "application/vnd.google.colaboratory.intrinsic+json": {
              "type": "string"
            }
          },
          "metadata": {},
          "execution_count": 13
        }
      ]
    },
    {
      "cell_type": "markdown",
      "source": [
        "**5. Girilen sayının asal olup olmadığını bulan kod dizisi (for ve while)**"
      ],
      "metadata": {
        "id": "fssDs_IcA6UK"
      }
    },
    {
      "cell_type": "code",
      "source": [
        "num = int(input(\"Bir sayı girin: \"))\n",
        "\n",
        "# for döngüsüyle\n",
        "asal_for = True\n",
        "if num < 2:\n",
        "    asal_for = False\n",
        "else:\n",
        "    for i in range(2, int(num ** 0.5) + 1):\n",
        "        if num % i == 0:\n",
        "            asal_for = False\n",
        "            break\n",
        "\n",
        "print(\"Asal mı? (for):\", asal_for)\n",
        "\n",
        "# while döngüsüyle\n",
        "asal_while = True\n",
        "if num < 2:\n",
        "    asal_while = False\n",
        "else:\n",
        "    i = 2\n",
        "    while i * i <= num:\n",
        "        if num % i == 0:\n",
        "            asal_while = False\n",
        "            break\n",
        "        i += 1\n",
        "\n",
        "print(\"Asal mı? (while):\", asal_while)\n"
      ],
      "metadata": {
        "colab": {
          "base_uri": "https://localhost:8080/"
        },
        "id": "A7yCjJo_Cjhk",
        "outputId": "c941f66a-d3ff-4f06-c53b-3dba99b101fb"
      },
      "execution_count": 20,
      "outputs": [
        {
          "output_type": "stream",
          "name": "stdout",
          "text": [
            "Bir sayı girin: 7\n",
            "Asal mı? (for): True\n",
            "Asal mı? (while): True\n"
          ]
        }
      ]
    },
    {
      "cell_type": "markdown",
      "source": [
        "**6. notlar = [45, 85, 75, 50] içinde 75 değerinin indeksini yazdıran döngü**"
      ],
      "metadata": {
        "id": "KLVbfdxMA-xD"
      }
    },
    {
      "cell_type": "code",
      "source": [
        "def index_of_value(lst, value):\n",
        "    for i in range(len(lst)):\n",
        "        if lst[i] == value:\n",
        "            return i\n",
        "    return -1\n",
        "\n",
        "notlar = [45, 85, 75, 50]\n",
        "print(\"75'in listedeki indexi:\", index_of_value(notlar, 75))"
      ],
      "metadata": {
        "colab": {
          "base_uri": "https://localhost:8080/"
        },
        "id": "rXCn_QmJCvXr",
        "outputId": "43f52496-a7b7-4b79-d98f-5079b48412f7"
      },
      "execution_count": 15,
      "outputs": [
        {
          "output_type": "stream",
          "name": "stdout",
          "text": [
            "75'in listedeki indisi: 2\n"
          ]
        }
      ]
    },
    {
      "cell_type": "markdown",
      "source": [
        "**7. Girilen sayının faktöriyelini alan kod (for ve while)**"
      ],
      "metadata": {
        "id": "JtDv7I4GBDai"
      }
    },
    {
      "cell_type": "code",
      "source": [
        "num = int(input(\"Bir sayı girin: \"))\n",
        "\n",
        "# for döngüsüyle\n",
        "sonuc_for = 1\n",
        "for i in range(2, num + 1):\n",
        "    sonuc_for *= i\n",
        "\n",
        "print(\"Faktöriyel (for):\", sonuc_for)\n",
        "\n",
        "# while döngüsüyle\n",
        "sonuc_while = 1\n",
        "i = 2\n",
        "while i <= num:\n",
        "    sonuc_while *= i\n",
        "    i += 1\n",
        "\n",
        "print(\"Faktöriyel (while):\", sonuc_while)"
      ],
      "metadata": {
        "colab": {
          "base_uri": "https://localhost:8080/"
        },
        "id": "1iaCay0PC7DF",
        "outputId": "35abd96e-93a0-4b3f-dc0f-22659ad184c5"
      },
      "execution_count": 21,
      "outputs": [
        {
          "output_type": "stream",
          "name": "stdout",
          "text": [
            "Bir sayı girin: 3\n",
            "Faktöriyel (for): 6\n",
            "Faktöriyel (while): 6\n"
          ]
        }
      ]
    },
    {
      "cell_type": "markdown",
      "source": [
        "**8. Kullanıcıdan pozitif bir sayı bekleyen, pozitif girilince yazdıran, negatif girildikçe tekrar soran yapı (for döngüsü ile)**"
      ],
      "metadata": {
        "id": "s3FFNTeABHjp"
      }
    },
    {
      "cell_type": "code",
      "source": [
        "def input_positive_loop():\n",
        "    while True:\n",
        "        n = int(input(\"Pozitif bir sayı girin: \"))\n",
        "        if n > 0:\n",
        "            print(\"Pozitif sayı:\", n)\n",
        "            break\n",
        "\n",
        "num = int(input(\"Bir sayı girin: \"))\n",
        "input_positive_loop()"
      ],
      "metadata": {
        "colab": {
          "base_uri": "https://localhost:8080/"
        },
        "id": "4rWQJyxeDXn2",
        "outputId": "ab18c42e-421d-4511-cad6-3d117558dbcc"
      },
      "execution_count": 18,
      "outputs": [
        {
          "output_type": "stream",
          "name": "stdout",
          "text": [
            "Bir sayı girin: -1\n",
            "Pozitif bir sayı girin: -2\n",
            "Pozitif bir sayı girin: -3\n",
            "Pozitif bir sayı girin: -4\n",
            "Pozitif bir sayı girin: 11\n",
            "Pozitif sayı: 11\n"
          ]
        }
      ]
    },
    {
      "cell_type": "markdown",
      "source": [
        "**9. Fonksiyon ile girilen sayının asal olup olmadığını bulan kod (for ve while)**"
      ],
      "metadata": {
        "id": "nnJO5-ZEBLML"
      }
    },
    {
      "cell_type": "code",
      "source": [
        "def is_prime_for(n):\n",
        "    if n < 2:\n",
        "        return False\n",
        "    for i in range(2, int(n**0.5) + 1):\n",
        "        if n % i == 0:\n",
        "            return False\n",
        "    return True\n",
        "\n",
        "def is_prime_while(n):\n",
        "    if n < 2:\n",
        "        return False\n",
        "    i = 2\n",
        "    while i * i <= n:\n",
        "        if n % i == 0:\n",
        "            return False\n",
        "        i += 1\n",
        "    return True\n",
        "\n",
        "num = int(input(\"Bir sayı girin: \"))\n",
        "print(\"Asal mı? (for):\", is_prime_for(num))\n",
        "print(\"Asal mı? (while):\", is_prime_while(num))"
      ],
      "metadata": {
        "colab": {
          "base_uri": "https://localhost:8080/"
        },
        "id": "kvls3wrXDme8",
        "outputId": "db6de941-1537-48e2-eebe-8d9364a2e1b0"
      },
      "execution_count": 22,
      "outputs": [
        {
          "output_type": "stream",
          "name": "stdout",
          "text": [
            "Bir sayı girin: 7\n",
            "Asal mı? (for): True\n",
            "Asal mı? (while): True\n"
          ]
        }
      ]
    },
    {
      "cell_type": "markdown",
      "source": [
        "**10. Fonksiyon ile girilen sayının faktöriyelini alan kod (for ve while)**"
      ],
      "metadata": {
        "id": "08YZNpDdBS8I"
      }
    },
    {
      "cell_type": "code",
      "source": [
        "def factorial_for(n):\n",
        "    result = 1\n",
        "    for i in range(2, n+1):\n",
        "        result *= i\n",
        "    return result\n",
        "\n",
        "def factorial_while(n):\n",
        "    result = 1\n",
        "    i = 2\n",
        "    while i <= n:\n",
        "        result *= i\n",
        "        i += 1\n",
        "    return result\n",
        "\n",
        "num = int(input(\"Bir sayı girin: \"))\n",
        "print(\"Faktöriyel (for):\", factorial_for(num))\n",
        "print(\"Faktöriyel (while):\", factorial_while(num))"
      ],
      "metadata": {
        "colab": {
          "base_uri": "https://localhost:8080/"
        },
        "id": "-7GRRYfsETzF",
        "outputId": "e13bc34b-a204-49d6-d0f6-03446ad7534d"
      },
      "execution_count": 23,
      "outputs": [
        {
          "output_type": "stream",
          "name": "stdout",
          "text": [
            "Bir sayı girin: 3\n",
            "Faktöriyel (for): 6\n",
            "Faktöriyel (while): 6\n"
          ]
        }
      ]
    }
  ]
}